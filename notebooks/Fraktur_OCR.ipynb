{
 "cells": [
  {
   "cell_type": "markdown",
   "metadata": {},
   "source": [
    "# LSTM on Pynq\n",
    "This notebook covers how to use the FPGA-accelerated BiLSTM implementation on PYNQ to perform optical character recognition (OCR) on Fraktur text.\n",
    "![alt text](Fraktur_images/LSTM_Topology.png \"BiLSTM for OCR\")"
   ]
  },
  {
   "cell_type": "markdown",
   "metadata": {},
   "source": [
    "## 1. Instantiate the OCR model\n",
    "\n",
    "Instantiating the OCR model will automatically download the appropriate bitstream onto the device and load the weights trained on the Fraktur dataset. "
   ]
  },
  {
   "cell_type": "code",
   "execution_count": 1,
   "metadata": {},
   "outputs": [
    {
     "data": {
      "application/javascript": [
       "\n",
       "require(['notebook/js/codecell'], function(codecell) {\n",
       "  codecell.CodeCell.options_default.highlight_modes[\n",
       "      'magic_text/x-csrc'] = {'reg':[/^%%microblaze/]};\n",
       "  Jupyter.notebook.events.one('kernel_ready.Kernel', function(){\n",
       "      Jupyter.notebook.get_cells().map(function(cell){\n",
       "          if (cell.cell_type == 'code'){ cell.auto_highlight(); } }) ;\n",
       "  });\n",
       "});\n"
      ]
     },
     "metadata": {},
     "output_type": "display_data"
    }
   ],
   "source": [
    "import lstm\n",
    "\n",
    "hw_ocr = lstm.PynqFrakturOCR(lstm.RUNTIME_HW)"
   ]
  },
  {
   "cell_type": "markdown",
   "metadata": {},
   "source": [
    "## 2. Load a line of text\n",
    "Load a line of Fraktur text that has been extracted from the Fraktur text \"Wanderungen durch die Mark Brandenburg\" by Theodor Fontane."
   ]
  },
  {
   "cell_type": "code",
   "execution_count": 2,
   "metadata": {},
   "outputs": [
    {
     "data": {
      "image/png": "[encoded data removed]",
      "text/plain": [
       "<PIL.Image.Image image mode=L size=353x25 at 0x316E19D0>"
      ]
     },
     "execution_count": 2,
     "metadata": {},
     "output_type": "execute_result"
    }
   ],
   "source": [
    "from PIL import Image\n",
    "im = Image.open('/home/xilinx/jupyter_notebooks/lstm/Fraktur_images/010006.raw.lnrm.png').convert('L')\n",
    "im"
   ]
  },
  {
   "cell_type": "markdown",
   "metadata": {},
   "source": [
    "## 3. Perform OCR in hardware\n",
    "Perform the OCR task on the input image using the hardware-accelerated OCR engine."
   ]
  },
  {
   "cell_type": "code",
   "execution_count": 3,
   "metadata": {
    "scrolled": true
   },
   "outputs": [
    {
     "name": "stdout",
     "output_type": "stream",
     "text": [
      "HW OCRed text: Für Andre hier gethan, sei stumme Gabe, -\n",
      "HW MOps/s: 54833.779575112705\n",
      "HW inference time [ms]: 1.7328369617462158\n"
     ]
    }
   ],
   "source": [
    "import numpy as np\n",
    "\n",
    "hw_result = hw_ocr.inference(np.array(im))\n",
    "hw_mops_per_s, hw_ms_inference_time, hw_recognized_text = hw_result\n",
    "\n",
    "print(\"HW OCRed text: {}\".format(hw_recognized_text))\n",
    "print(\"HW MOps/s: {}\".format(hw_mops_per_s))\n",
    "print(\"HW inference time [ms]: {}\".format(hw_ms_inference_time))"
   ]
  },
  {
   "cell_type": "markdown",
   "metadata": {},
   "source": [
    "## 4. Perform OCR in software\n",
    "For the sake of evaluating the performances of the hardware-accelerated OCR engine, perform the same OCR task using the Arm CPU."
   ]
  },
  {
   "cell_type": "code",
   "execution_count": 4,
   "metadata": {},
   "outputs": [
    {
     "name": "stdout",
     "output_type": "stream",
     "text": [
      "SW OCRed text: Für Andre hier gethan, sei stumme Gabe, -\n",
      "SW MOps/s: 1.2310819261405748\n",
      "SW inference time [ms]: 77182.515625\n"
     ]
    }
   ],
   "source": [
    "sw_ocr = lstm.PynqFrakturOCR(lstm.RUNTIME_SW)\n",
    "\n",
    "sw_result = sw_ocr.inference(np.array(im))\n",
    "sw_mops_per_s, sw_ms_inference_time, sw_recognized_text = sw_result\n",
    "\n",
    "print(\"SW OCRed text: {}\".format(sw_recognized_text))\n",
    "print(\"SW MOps/s: {}\".format(sw_mops_per_s))\n",
    "print(\"SW inference time [ms]: {}\".format(sw_ms_inference_time))"
   ]
  },
  {
   "cell_type": "markdown",
   "metadata": {},
   "source": [
    "## 5. Reset the hardware accelerator"
   ]
  },
  {
   "cell_type": "code",
   "execution_count": 5,
   "metadata": {},
   "outputs": [],
   "source": [
    "hw_ocr.cleanup()"
   ]
  }
 ],
 "metadata": {
  "kernelspec": {
   "display_name": "Python 3",
   "language": "python",
   "name": "python3"
  },
  "language_info": {
   "codemirror_mode": {
    "name": "ipython",
    "version": 3
   },
   "file_extension": ".py",
   "mimetype": "text/x-python",
   "name": "python",
   "nbconvert_exporter": "python",
   "pygments_lexer": "ipython3",
   "version": "3.6.0"
  }
 },
 "nbformat": 4,
 "nbformat_minor": 2
}
